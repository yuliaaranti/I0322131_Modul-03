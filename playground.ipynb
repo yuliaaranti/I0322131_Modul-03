{
 "cells": [
  {
   "attachments": {},
   "cell_type": "markdown",
   "metadata": {},
   "source": [
    "### Instruksi:\n",
    "1. Buka buku Learn Python 3 The Hard Way.\n",
    "2. Di bawah ini ada Example dari beberapa Bab yang memuat Operator.\n",
    "3. Silakan kalian bisa latihan dengan melakukan dari yang diinstruksikan pada bagian \"Study Drill\" yang ada di bawah Example\n",
    "4. Bisa dibaca-baca bukunya agar mendapatkan wawasan lebih dari apa yang asisten berikan"
   ]
  },
  {
   "attachments": {},
   "cell_type": "markdown",
   "metadata": {},
   "source": [
    " "
   ]
  },
  {
   "attachments": {},
   "cell_type": "markdown",
   "metadata": {},
   "source": [
    "3: Numbers and Math"
   ]
  },
  {
   "cell_type": "code",
   "execution_count": null,
   "metadata": {},
   "outputs": [],
   "source": [
    "# ex3: Numbers and Math\n",
    "\n",
    "print(\"I will now count my chickens:\")\n",
    "\n",
    "print(\"Hens\", 25 + 30 / 6)\n",
    "print(\"Roosters\", 100 -25 * 3 % 4)\n",
    "\n",
    "print(\"Now I will count the eggs:\")\n",
    "\n",
    "print(3 + 2 + 1 - 5 + 4 % 2 - 1 / 4 + 6)\n",
    "\n",
    "print(\"Is it true that 3 + 2 < 5 - 7?\")\n",
    "\n",
    "print(3 + 2 < 5 - 7)\n",
    "\n",
    "print(\"What is 3 + 2?\", 3 + 2)\n",
    "\n",
    "print(\"What is 5 - 7?\", 5 - 7)\n",
    "\n",
    "print(\"Oh, that's why it's False.\")\n",
    "\n",
    "print(\"How about some more.\")\n",
    "\n",
    "print(\"Is it greater?\", 5 > -2)\n",
    "print(\"Is it greater or equal?\", 5 >= -2)\n",
    "print(\"Is it less or equal?\", 5 <= -2)"
   ]
  },
  {
   "cell_type": "code",
   "execution_count": null,
   "metadata": {},
   "outputs": [],
   "source": [
    "# Kerjakan Study Drill 3) di sini\n",
    "\n",
    "print(\"I will now count my chickens:\")\n",
    "\n",
    "print(\"Hens\", 25 + 30 / 6)\n",
    "#pembagian diprioritaskan dibandingkan pertambahan apabila tidak diberi kurung\n",
    "\n",
    "print(\"Roosters\", 100 - 25 * 3 % 4)\n",
    "#urutan prioritasnya yaitu *(perkalian), %(sisa pembagian), dan pengurangan\n",
    "\n",
    "print(\"Now I will count the eggs:\")\n",
    "\n",
    "print(3 + 2 + 1 - 5 + 4 % 2 - 1 / 4 + 6)\n",
    "#urutan prioritas % dan / sama, maka diurutkan dari depan terlebih dahulu\n",
    "\n",
    "print(\"Is it true that 3 + 2 < 5 - 7?\")\n",
    "\n",
    "print(3 + 2 < 5 - 7)\n",
    "#karena 5 > 2\n",
    "\n",
    "print(\"What is 3 + 2?\", 3 + 2)\n",
    "#operasi pertambahan, 3+2 sama dengan 5\n",
    "\n",
    "print(\"What is 5 - 7?\", 5 - 7)\n",
    "#operasi pengurangan, 5-7 sama dengan -2\n",
    "\n",
    "print(\"Oh, that's why it's False.\")\n",
    "\n",
    "print(\"How about some more.\")\n",
    "\n",
    "print(\"Is it greater?\", 5 > -2)\n",
    "#true karena memang benar angka positif lebih besar dari angka negatif\n",
    "\n",
    "print(\"Is it greater or equal?\", 5 >= -2)\n",
    "#true karena memang benar angka positif lebih besar dari angka negatif\n",
    "\n",
    "print(\"Is it less or equal?\", 5 <= -2)\n",
    "#false karena seharusnya angka positif lebih besar dari angka negatif\n"
   ]
  },
  {
   "attachments": {},
   "cell_type": "markdown",
   "metadata": {},
   "source": [
    "4: Variables and Names"
   ]
  },
  {
   "cell_type": "code",
   "execution_count": 8,
   "metadata": {},
   "outputs": [
    {
     "name": "stdout",
     "output_type": "stream",
     "text": [
      "There are 100 cars available.\n",
      "There are only 30 drivers available.\n",
      "There will be 70 empty cars today.\n",
      "We can transport 120.0 people today.\n",
      "We have 90 to carpool today.\n",
      "We need to put about 3.0 in each car.\n"
     ]
    }
   ],
   "source": [
    "cars = 100\n",
    "space_in_a_car = 4.0\n",
    "drivers = 30\n",
    "passengers = 90\n",
    "cars_not_driven = cars - drivers\n",
    "cars_driven = drivers\n",
    "carpool_capacity = cars_driven * space_in_a_car\n",
    "average_passengers_per_car = passengers / cars_driven\n",
    "\n",
    "print(\"There are\", cars, \"cars available.\")\n",
    "print(\"There are only\", drivers, \"drivers available.\")\n",
    "print(\"There will be\", cars_not_driven, \"empty cars today.\")\n",
    "print(\"We can transport\", carpool_capacity, \"people today.\")\n",
    "print(\"We have\", passengers, \"to carpool today.\")\n",
    "print(\"We need to put about\", average_passengers_per_car, \"in each car.\")"
   ]
  },
  {
   "cell_type": "code",
   "execution_count": null,
   "metadata": {},
   "outputs": [],
   "source": [
    "# Kerjakan Study Drill 4) di sini\n",
    "\n",
    "car_pool_capacity tidak terdefinisi karena harus konsisten dengan string yang sudah ditulis sebelumnya\n",
    "yang benar seharusnya #carpool_capacity\n",
    "\n",
    "apa yang akan terjadi jika hanya tertulis 4, hasilnya akan tetap 120"
   ]
  },
  {
   "cell_type": "code",
   "execution_count": 11,
   "metadata": {},
   "outputs": [
    {
     "name": "stdout",
     "output_type": "stream",
     "text": [
      "There are 100 cars available.\n",
      "There are only 30 drivers available.\n",
      "There will be 70 empty cars today.\n",
      "We can transport 120.0 people today.\n",
      "We have 90 to carpool today.\n",
      "We need to put about 3.0 in each car.\n"
     ]
    }
   ],
   "source": [
    "# Kerjakan Study Drill 4) di sini\n",
    "\n",
    "a = 100\n",
    "b = 4.0\n",
    "c = 30\n",
    "d = 90\n",
    "e = a - c\n",
    "f = c\n",
    "g = f * b\n",
    "h = d / f\n",
    "\n",
    "print(\"There are\", a, \"cars available.\")\n",
    "print(\"There are only\", c, \"drivers available.\")\n",
    "print(\"There will be\", e, \"empty cars today.\")\n",
    "print(\"We can transport\", g, \"people today.\")\n",
    "print(\"We have\", d, \"to carpool today.\")\n",
    "print(\"We need to put about\", h, \"in each car.\")"
   ]
  },
  {
   "attachments": {},
   "cell_type": "markdown",
   "metadata": {},
   "source": [
    "### Instruksi:\n",
    "1. Tulis ulang kode contoh di atasnya dengan sebelumnya artikan dengan command (#)"
   ]
  },
  {
   "attachments": {},
   "cell_type": "markdown",
   "metadata": {},
   "source": [
    "Contoh\n",
    "\n",
    "Tulis program Python yang dapat menghitung luas dari Lingkaran dengan jari-jari yang diinput!"
   ]
  },
  {
   "cell_type": "code",
   "execution_count": 12,
   "metadata": {},
   "outputs": [
    {
     "name": "stdout",
     "output_type": "stream",
     "text": [
      "The area of the circle with radius 14.0 is: 615.7521601035994\n"
     ]
    }
   ],
   "source": [
    "from math import pi\n",
    "r = float(input (\"Input the radius of the circle : \"))\n",
    "print (\"The area of the circle with radius \" + str(r) + \" is: \" + str(pi * r**2))"
   ]
  },
  {
   "cell_type": "code",
   "execution_count": 13,
   "metadata": {},
   "outputs": [
    {
     "name": "stdout",
     "output_type": "stream",
     "text": [
      "Luas lingkaran dengan jari-jari 14.0 adalah: 615.7521601035994\n"
     ]
    }
   ],
   "source": [
    "# import pi dari math library\n",
    "from math import pi\n",
    "\n",
    "# membuat variabel untuk user menginputkan nilai jari-jari\n",
    "r = float(input (\"Masukkan jari-jari lingkaran: \"))\n",
    "\n",
    "# Mem-print nilai luas lingkaran sekaligus menghitungnya\n",
    "print (\"Luas lingkaran dengan jari-jari \" + str(r) + \" adalah: \" + str(pi * r**2))"
   ]
  },
  {
   "attachments": {},
   "cell_type": "markdown",
   "metadata": {},
   "source": [
    "5: Tulis program Python untuk tambah, kurang, kali, dan bagi dari dua buah pecahan"
   ]
  },
  {
   "cell_type": "code",
   "execution_count": 14,
   "metadata": {},
   "outputs": [
    {
     "name": "stdout",
     "output_type": "stream",
     "text": [
      "2/3 + 3/7 = 23/21\n",
      "2/3 - 3/7 = 5/21\n",
      "2/3 * 3/7 = 2/7\n",
      "2/3 / 3/7 = 14/9\n"
     ]
    }
   ],
   "source": [
    "import fractions\n",
    "\n",
    "f1 = fractions.Fraction(2, 3)\n",
    "f2 = fractions.Fraction(3, 7)\n",
    "\n",
    "print('{} + {} = {}'.format(f1, f2, f1 + f2))\n",
    "print('{} - {} = {}'.format(f1, f2, f1 - f2))\n",
    "print('{} * {} = {}'.format(f1, f2, f1 * f2))\n",
    "print('{} / {} = {}'.format(f1, f2, f1 / f2))"
   ]
  },
  {
   "cell_type": "code",
   "execution_count": 1,
   "metadata": {},
   "outputs": [
    {
     "name": "stdout",
     "output_type": "stream",
     "text": [
      "Let's talk about Yulia Puspa.\n",
      "She's 160 cm tall.\n",
      "She's 40 kilograms heavy.\n",
      "Actually that's not too heavy.\n",
      "She's got brown eyes and black hair.\n",
      "Her teeth are usually white depending on the tea.\n",
      "If I add 35, 160, and 40 I get 235.\n"
     ]
    }
   ],
   "source": [
    "# Kerjakan Study Drill 5 di sini\n",
    "\n",
    "name = 'Yulia Puspa'\n",
    "age = 35 #not a lie\n",
    "height = 160 #cm\n",
    "weight = 40 #kg\n",
    "eyes = 'brown'\n",
    "teeth = 'white'\n",
    "hair = 'black'\n",
    "\n",
    "print(f\"Let's talk about {name}.\")\n",
    "print(f\"She's {height} cm tall.\")\n",
    "print(f\"She's {weight} kilograms heavy.\")\n",
    "print(\"Actually that's not too heavy.\")\n",
    "print(f\"She's got {eyes} eyes and {hair} hair.\")\n",
    "print(f\"Her teeth are usually {teeth} depending on the tea.\")\n",
    "\n",
    "# this line is tricky, try to get it exactly right\n",
    "total = age + height + weight\n",
    "print(f\"If I add {age}, {height}, and {weight} I get {total}.\")"
   ]
  },
  {
   "attachments": {},
   "cell_type": "markdown",
   "metadata": {},
   "source": [
    "6: Tulis program Python yang akan menghitung luas dari segitiga dengan alas dan tinggi yang kamu inputkan!"
   ]
  },
  {
   "cell_type": "code",
   "execution_count": 16,
   "metadata": {},
   "outputs": [
    {
     "name": "stdout",
     "output_type": "stream",
     "text": [
      "luas =  12.0\n"
     ]
    }
   ],
   "source": [
    "b = int(input(\"Input alas : \"))\n",
    "h = int(input(\"Input tinggi : \"))\n",
    "\n",
    "luas = b*h/2\n",
    "\n",
    "print(\"luas = \", luas)"
   ]
  },
  {
   "cell_type": "code",
   "execution_count": null,
   "metadata": {},
   "outputs": [],
   "source": [
    "# Kerjakan Study Drill 6 di sini\n",
    "\n",
    "types_of_people = 10\n",
    "x = f\"There are {types_of_people} types of people.\"\n",
    "#menggabungkan string ke dalam suatu kalimat\n",
    "\n",
    "binary = \"binary\"\n",
    "do_not = \"don't\"\n",
    "y = f\"Those who know {binary} and those who {do_not}.\"\n",
    "#menggabungkan string ke dalam suatu kalimat\n",
    "\n",
    "print(x)\n",
    "print(y)\n",
    "#memproses program yang outputnya merupakan kalimat yang memiliki beberapa string didalamnya\n",
    "\n",
    "print(f\"I said: {x}\")\n",
    "print(f\"I also said: '{y}'\")\n",
    "#memproses program yang outputnya merupakan kalimat yang memiliki beberapa string didalamnya\n",
    "\n",
    "hilarious = False\n",
    "joke_evaluation = \"Isn't that joke so funny?! {}\"\n",
    "#memberi space kosong setelah kalimat untuk diisi oleh output suatu string\n",
    "\n",
    "print(joke_evaluation.format(hilarious))\n",
    "#outputnya berupa kalimat ditambah dengan output suatu string\n",
    "\n",
    "w = \"This is the left side of...\"\n",
    "e = \"a string with a right side.\"\n",
    "\n",
    "print(w + e)\n",
    "#menggabungkan dua string jadi satu\n",
    "\n",
    "#there are 4 places/lines that represent string in a string\n",
    "x = f\"There are {types_of_people} types of people.\"         #1 string\n",
    "y = f\"Those who know {binary} and those who {do_not}.\"      #2 string\n",
    "print(f\"I said: {x}\")                                       #1 string karena x terdapat 1 string\n",
    "print(f\"I also said: '{y}'\")                                #2 string karena y terdapat 2 string\n",
    "#bisa juga berarti 6 jika menghitung jumlah string didalam string\n",
    "\n",
    "#tanda + secara harfiah digunakan untuk menggabungkan atau concatenate\n"
   ]
  },
  {
   "attachments": {},
   "cell_type": "markdown",
   "metadata": {},
   "source": [
    "7: Tulis program Python yang dapat menghitung luas permukaan dan volume dari Tabung!"
   ]
  },
  {
   "cell_type": "code",
   "execution_count": 17,
   "metadata": {},
   "outputs": [
    {
     "name": "stdout",
     "output_type": "stream",
     "text": [
      "Volume tabung adalah:  550.0\n",
      "Luas permukaan tabung adalah:  377.1428571428571\n"
     ]
    }
   ],
   "source": [
    "pi=22/7\n",
    "tinggi = float(input('Tinggi dari Tabung: '))\n",
    "jarijari = float(input('Jari-jari dari Tabung: '))\n",
    "volume = pi * jarijari * jarijari * tinggi\n",
    "lp = ((2*pi*jarijari) * tinggi) + ((pi*jarijari**2)*2)\n",
    "print(\"Volume tabung adalah: \", volume)\n",
    "print(\"Luas permukaan tabung adalah: \", lp)"
   ]
  },
  {
   "cell_type": "code",
   "execution_count": 11,
   "metadata": {},
   "outputs": [
    {
     "name": "stdout",
     "output_type": "stream",
     "text": [
      "Mary had a little lamb.\n",
      "It's fleece was white as snow.\n",
      "And everywhere that Mary went.\n",
      "..........\n",
      "Cheese Burger\n"
     ]
    }
   ],
   "source": [
    "# Kerjakan Study Drill 7 di sini\n",
    "\n",
    "print(\"Mary had a little lamb.\")\n",
    "print(\"It's fleece was white as {}.\".format('snow'))\n",
    "print(\"And everywhere that Mary went.\")\n",
    "print(\".\" * 10) #artinya mem-print . sepuluh kali\n",
    "\n",
    "end1 = \"C\"\n",
    "end2 = \"h\"\n",
    "end3 = \"e\"\n",
    "end4 = \"e\"\n",
    "end5 = \"s\"\n",
    "end6 = \"e\"\n",
    "end7 = \"B\"\n",
    "end8 = \"u\"\n",
    "end9 = \"r\"\n",
    "end10 = \"g\"\n",
    "end11 = \"e\"\n",
    "end12 = \"r\"\n",
    "\n",
    "# watch that comma at the end. try removing it to see what happens\n",
    "print(end1 + end2 + end3 + end4 + end5 + end6, end=' ')\n",
    "print(end7 + end8 + end9 + end10 + end11 + end12)\n",
    "# tanpa \"\" atau '' akan tertulis error atau invalid syntax, karena fungsi end=''\n",
    "# adalah perintah untuk memprint output dari kelanjutannya(end7-end12)\n",
    "\n",
    "# when you make mistakes, write down on a piece of paper what kind of mistake you made.\n",
    "# kesalahan adalah menjalankan program yang memiliki banyak karakter dalam satu baris\n",
    "# seharusnya bisa print output dalam beberapa baris dengan catatan menambahkan end='' atau end=\"\""
   ]
  },
  {
   "attachments": {},
   "cell_type": "markdown",
   "metadata": {},
   "source": [
    "8: Tulis program Python untuk mendapatkan akar pangkat dua dan pangkat dari nilai desimal yang diberikan!"
   ]
  },
  {
   "cell_type": "code",
   "execution_count": 12,
   "metadata": {},
   "outputs": [
    {
     "name": "stdout",
     "output_type": "stream",
     "text": [
      "Akar pangkat dua dari 1.44 adalah : 1.2\n",
      "Pangkat dua dari 1.44  adalah : 4.220695816996552825673328929\n"
     ]
    }
   ],
   "source": [
    "from decimal import *\n",
    "x = Decimal('1.44')\n",
    "print(\"Akar pangkat dua dari\",x, \"adalah :\", x.sqrt())\n",
    "print(\"Pangkat dua dari\",x, \" adalah :\", x.exp())\n"
   ]
  },
  {
   "cell_type": "code",
   "execution_count": null,
   "metadata": {},
   "outputs": [],
   "source": [
    "# Kerjakan Study Drill 8 di sini\n",
    "\n",
    "formatter = \"{} {} {} {} {}\"\n",
    "\n",
    "print(formatter.format(1, 2, 3, 4))\n",
    "print(formatter.format(\"one\", \"two\", \"three\", \"four\"))\n",
    "print(formatter.format(True, False, False, True))\n",
    "print(formatter.format(formatter, formatter, formatter, formatter))\n",
    "print(formatter.format(\n",
    "    \"Hey,\",\n",
    "    \"this is the story i hate.\",\n",
    "    \"And telling it might make me break.\",\n",
    "    \"But i'll tell it anyway.\"\n",
    "    ))"
   ]
  },
  {
   "attachments": {},
   "cell_type": "markdown",
   "metadata": {},
   "source": [
    "9: Tulis program Python yang dapat menentukan apakah benar bilangan tersebut LEBIH BESAR dari 4^4 DAN jika di-MODULUS-kan 34 hasilnya adalah 4!"
   ]
  },
  {
   "cell_type": "code",
   "execution_count": null,
   "metadata": {},
   "outputs": [],
   "source": [
    "def test(n):\n",
    "    return n % 34 == 4 and n > 4 ** 4\n",
    "\n",
    "n = 922\n",
    "print(\"Original Integer:\")\n",
    "print(n)\n",
    "print(\"Apakah benar integer tersebut lebih besar dari 4^4 dan hasilnya 4 jika di-mod-kan dengan 34:\")\n",
    "\n",
    "print(test(n))\n",
    "\n",
    "n = 914\n",
    "print(\"\\nOriginal Integer:\")\n",
    "print(n)\n",
    "print(\"Apakah benar integer tersebut lebih besar dari 4^4 dan hasilnya 4 jika di-mod-kan dengan 34:\")\n",
    "print(test(n))\n",
    "\n",
    "n = 854\n",
    "print(\"\\nOriginal Integer:\")\n",
    "print(n)\n",
    "print(\"Apakah benar integer tersebut lebih besar dari 4^4 dan hasilnya 4 jika di-mod-kan dengan 34:\")\n",
    "print(test(n))"
   ]
  },
  {
   "cell_type": "code",
   "execution_count": 29,
   "metadata": {},
   "outputs": [
    {
     "name": "stdout",
     "output_type": "stream",
     "text": [
      "Here are the days:  Mon Tue Wed Thu Fri Sat Sun\n",
      "Here are the months:  Jan\n",
      "Feb\n",
      "Mar\n",
      "Apr\n",
      "May\n",
      "Jun\n",
      "Jul\n",
      "Aug\n",
      "\n",
      "There's something going on here.\n",
      "With the three double-quotes.\n",
      "We'll be able to type as much as we like.\n",
      "Even 4 lines if we want, or 5, or 6.\n",
      "\n"
     ]
    }
   ],
   "source": [
    "# Kerjakan Study Drill 9 di sini\n",
    "## Kalian bisa coba membuktikan dengan menghitung hasil dari 4^4 dan mod 34 dari bilangan integernya\n",
    "\n",
    "# Here's some new strange stuff, remember type it exactly.\n",
    "days = \"Mon Tue Wed Thu Fri Sat Sun\"\n",
    "months = \"Jan\\nFeb\\nMar\\nApr\\nMay\\nJun\\nJul\\nAug\"\n",
    "print(\"Here are the days: \", days)\n",
    "print(\"Here are the months: \", months)\n",
    "\n",
    "print(\"\"\"\n",
    "There's something going on here.\n",
    "With the three double-quotes.\n",
    "We'll be able to type as much as we like.\n",
    "Even 4 lines if we want, or 5, or 6.\n",
    "\"\"\")"
   ]
  },
  {
   "attachments": {},
   "cell_type": "markdown",
   "metadata": {},
   "source": [
    "10: Tulis program Python yang dapat menyimpan nama depan dan nama belakang user dan mem-print-nya dengan dibalik antara keduanya!\n"
   ]
  },
  {
   "cell_type": "code",
   "execution_count": 28,
   "metadata": {},
   "outputs": [
    {
     "name": "stdout",
     "output_type": "stream",
     "text": [
      "Hello Ranti Yulia\n"
     ]
    }
   ],
   "source": [
    "fname = input(\"Input your First Name : \")\n",
    "lname = input(\"Input your Last Name : \")\n",
    "print (\"Hello \" + lname + \" \" + fname)"
   ]
  },
  {
   "cell_type": "code",
   "execution_count": 5,
   "metadata": {},
   "outputs": [
    {
     "name": "stdout",
     "output_type": "stream",
     "text": [
      "\tI'm tabbed in.\n",
      "I'm split\n",
      "on a line.\n",
      "I'm \\ a \\ cat.\n",
      "\n",
      "I'll do a list:\n",
      "\t* Cat food\n",
      "\t* Fishies\n",
      "\t* Catnip\n",
      "\t* Grass\n",
      "\n"
     ]
    }
   ],
   "source": [
    "# Kerjakan Study Drill 10 di sini\n",
    "\n",
    "tabby_cat = \"\\tI'm tabbed in.\"\n",
    "persian_cat = \"I'm split\\non a line.\"\n",
    "backslash_cat = \"I'm \\\\ a \\\\ cat.\"\n",
    "\n",
    "fat_cat = \"\"\"\n",
    "I'll do a list:\n",
    "\\t* Cat food\n",
    "\\t* Fishies\n",
    "\\t* Catnip\\n\\t* Grass\n",
    "\"\"\"\n",
    "\n",
    "print(tabby_cat)\n",
    "print(persian_cat)\n",
    "print(backslash_cat)\n",
    "print(fat_cat)\n",
    "\n",
    "#penggunaan ''' lebih ringkas dan cepat dibanding \"\"\" karena mengharuskan menekan shift untuk petik dua"
   ]
  }
 ],
 "metadata": {
  "kernelspec": {
   "display_name": "Python 3",
   "language": "python",
   "name": "python3"
  },
  "language_info": {
   "codemirror_mode": {
    "name": "ipython",
    "version": 3
   },
   "file_extension": ".py",
   "mimetype": "text/x-python",
   "name": "python",
   "nbconvert_exporter": "python",
   "pygments_lexer": "ipython3",
   "version": "3.10.7"
  },
  "orig_nbformat": 4
 },
 "nbformat": 4,
 "nbformat_minor": 2
}
